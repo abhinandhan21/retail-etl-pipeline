{
  "nbformat": 4,
  "nbformat_minor": 0,
  "metadata": {
    "colab": {
      "provenance": [],
      "authorship_tag": "ABX9TyM5rmmeGrJW0zu7fCuTUvzy",
      "include_colab_link": true
    },
    "kernelspec": {
      "name": "python3",
      "display_name": "Python 3"
    },
    "language_info": {
      "name": "python"
    }
  },
  "cells": [
    {
      "cell_type": "markdown",
      "metadata": {
        "id": "view-in-github",
        "colab_type": "text"
      },
      "source": [
        "<a href=\"https://colab.research.google.com/github/abhinandhan21/retail-etl-pipeline/blob/main/retail_etl_colab.ipynb\" target=\"_parent\"><img src=\"https://colab.research.google.com/assets/colab-badge.svg\" alt=\"Open In Colab\"/></a>"
      ]
    },
    {
      "cell_type": "markdown",
      "source": [
        " **Step 1: Install & Import Libraries**"
      ],
      "metadata": {
        "id": "Nz0zxbN8UaXn"
      }
    },
    {
      "cell_type": "code",
      "source": [
        "# Install PySpark\n",
        "!pip install pyspark\n",
        "\n",
        "# Import necessary libraries\n",
        "from pyspark.sql import SparkSession\n",
        "from pyspark.sql.functions import col, sum as _sum, avg, to_date, month, year, when, count, row_number\n",
        "from pyspark.sql.window import Window\n",
        "from google.colab import files\n",
        "import shutil"
      ],
      "metadata": {
        "colab": {
          "base_uri": "https://localhost:8080/"
        },
        "id": "MI3toWMWUfCr",
        "outputId": "6b3dcbeb-554f-4b8e-cb40-f9cf1554fb35"
      },
      "execution_count": 2,
      "outputs": [
        {
          "output_type": "stream",
          "name": "stdout",
          "text": [
            "Requirement already satisfied: pyspark in /usr/local/lib/python3.11/dist-packages (3.5.1)\n",
            "Requirement already satisfied: py4j==0.10.9.7 in /usr/local/lib/python3.11/dist-packages (from pyspark) (0.10.9.7)\n"
          ]
        }
      ]
    },
    {
      "cell_type": "markdown",
      "source": [
        "**Step 2: Upload File & Start Spark Session**"
      ],
      "metadata": {
        "id": "4eodZ_azUkOu"
      }
    },
    {
      "cell_type": "code",
      "source": [
        "# Uploading retail sales dataset\n",
        "uploaded = files.upload()\n",
        "\n",
        "# Start Spark Session\n",
        "spark = SparkSession.builder.appName(\"EnhancedRetailETL\").getOrCreate()\n",
        "\n",
        "# Read CSV\n",
        "df = spark.read.csv(\"retail_sales_dataset.csv\", header=True, inferSchema=True)\n",
        "df.show(5)"
      ],
      "metadata": {
        "colab": {
          "base_uri": "https://localhost:8080/",
          "height": 264
        },
        "id": "fkmAuCAjUq7r",
        "outputId": "50894e29-92e5-478f-8ed2-c61fb1a6015e"
      },
      "execution_count": 3,
      "outputs": [
        {
          "output_type": "display_data",
          "data": {
            "text/plain": [
              "<IPython.core.display.HTML object>"
            ],
            "text/html": [
              "\n",
              "     <input type=\"file\" id=\"files-337ac08c-c20f-47c0-894c-4303455cd231\" name=\"files[]\" multiple disabled\n",
              "        style=\"border:none\" />\n",
              "     <output id=\"result-337ac08c-c20f-47c0-894c-4303455cd231\">\n",
              "      Upload widget is only available when the cell has been executed in the\n",
              "      current browser session. Please rerun this cell to enable.\n",
              "      </output>\n",
              "      <script>// Copyright 2017 Google LLC\n",
              "//\n",
              "// Licensed under the Apache License, Version 2.0 (the \"License\");\n",
              "// you may not use this file except in compliance with the License.\n",
              "// You may obtain a copy of the License at\n",
              "//\n",
              "//      http://www.apache.org/licenses/LICENSE-2.0\n",
              "//\n",
              "// Unless required by applicable law or agreed to in writing, software\n",
              "// distributed under the License is distributed on an \"AS IS\" BASIS,\n",
              "// WITHOUT WARRANTIES OR CONDITIONS OF ANY KIND, either express or implied.\n",
              "// See the License for the specific language governing permissions and\n",
              "// limitations under the License.\n",
              "\n",
              "/**\n",
              " * @fileoverview Helpers for google.colab Python module.\n",
              " */\n",
              "(function(scope) {\n",
              "function span(text, styleAttributes = {}) {\n",
              "  const element = document.createElement('span');\n",
              "  element.textContent = text;\n",
              "  for (const key of Object.keys(styleAttributes)) {\n",
              "    element.style[key] = styleAttributes[key];\n",
              "  }\n",
              "  return element;\n",
              "}\n",
              "\n",
              "// Max number of bytes which will be uploaded at a time.\n",
              "const MAX_PAYLOAD_SIZE = 100 * 1024;\n",
              "\n",
              "function _uploadFiles(inputId, outputId) {\n",
              "  const steps = uploadFilesStep(inputId, outputId);\n",
              "  const outputElement = document.getElementById(outputId);\n",
              "  // Cache steps on the outputElement to make it available for the next call\n",
              "  // to uploadFilesContinue from Python.\n",
              "  outputElement.steps = steps;\n",
              "\n",
              "  return _uploadFilesContinue(outputId);\n",
              "}\n",
              "\n",
              "// This is roughly an async generator (not supported in the browser yet),\n",
              "// where there are multiple asynchronous steps and the Python side is going\n",
              "// to poll for completion of each step.\n",
              "// This uses a Promise to block the python side on completion of each step,\n",
              "// then passes the result of the previous step as the input to the next step.\n",
              "function _uploadFilesContinue(outputId) {\n",
              "  const outputElement = document.getElementById(outputId);\n",
              "  const steps = outputElement.steps;\n",
              "\n",
              "  const next = steps.next(outputElement.lastPromiseValue);\n",
              "  return Promise.resolve(next.value.promise).then((value) => {\n",
              "    // Cache the last promise value to make it available to the next\n",
              "    // step of the generator.\n",
              "    outputElement.lastPromiseValue = value;\n",
              "    return next.value.response;\n",
              "  });\n",
              "}\n",
              "\n",
              "/**\n",
              " * Generator function which is called between each async step of the upload\n",
              " * process.\n",
              " * @param {string} inputId Element ID of the input file picker element.\n",
              " * @param {string} outputId Element ID of the output display.\n",
              " * @return {!Iterable<!Object>} Iterable of next steps.\n",
              " */\n",
              "function* uploadFilesStep(inputId, outputId) {\n",
              "  const inputElement = document.getElementById(inputId);\n",
              "  inputElement.disabled = false;\n",
              "\n",
              "  const outputElement = document.getElementById(outputId);\n",
              "  outputElement.innerHTML = '';\n",
              "\n",
              "  const pickedPromise = new Promise((resolve) => {\n",
              "    inputElement.addEventListener('change', (e) => {\n",
              "      resolve(e.target.files);\n",
              "    });\n",
              "  });\n",
              "\n",
              "  const cancel = document.createElement('button');\n",
              "  inputElement.parentElement.appendChild(cancel);\n",
              "  cancel.textContent = 'Cancel upload';\n",
              "  const cancelPromise = new Promise((resolve) => {\n",
              "    cancel.onclick = () => {\n",
              "      resolve(null);\n",
              "    };\n",
              "  });\n",
              "\n",
              "  // Wait for the user to pick the files.\n",
              "  const files = yield {\n",
              "    promise: Promise.race([pickedPromise, cancelPromise]),\n",
              "    response: {\n",
              "      action: 'starting',\n",
              "    }\n",
              "  };\n",
              "\n",
              "  cancel.remove();\n",
              "\n",
              "  // Disable the input element since further picks are not allowed.\n",
              "  inputElement.disabled = true;\n",
              "\n",
              "  if (!files) {\n",
              "    return {\n",
              "      response: {\n",
              "        action: 'complete',\n",
              "      }\n",
              "    };\n",
              "  }\n",
              "\n",
              "  for (const file of files) {\n",
              "    const li = document.createElement('li');\n",
              "    li.append(span(file.name, {fontWeight: 'bold'}));\n",
              "    li.append(span(\n",
              "        `(${file.type || 'n/a'}) - ${file.size} bytes, ` +\n",
              "        `last modified: ${\n",
              "            file.lastModifiedDate ? file.lastModifiedDate.toLocaleDateString() :\n",
              "                                    'n/a'} - `));\n",
              "    const percent = span('0% done');\n",
              "    li.appendChild(percent);\n",
              "\n",
              "    outputElement.appendChild(li);\n",
              "\n",
              "    const fileDataPromise = new Promise((resolve) => {\n",
              "      const reader = new FileReader();\n",
              "      reader.onload = (e) => {\n",
              "        resolve(e.target.result);\n",
              "      };\n",
              "      reader.readAsArrayBuffer(file);\n",
              "    });\n",
              "    // Wait for the data to be ready.\n",
              "    let fileData = yield {\n",
              "      promise: fileDataPromise,\n",
              "      response: {\n",
              "        action: 'continue',\n",
              "      }\n",
              "    };\n",
              "\n",
              "    // Use a chunked sending to avoid message size limits. See b/62115660.\n",
              "    let position = 0;\n",
              "    do {\n",
              "      const length = Math.min(fileData.byteLength - position, MAX_PAYLOAD_SIZE);\n",
              "      const chunk = new Uint8Array(fileData, position, length);\n",
              "      position += length;\n",
              "\n",
              "      const base64 = btoa(String.fromCharCode.apply(null, chunk));\n",
              "      yield {\n",
              "        response: {\n",
              "          action: 'append',\n",
              "          file: file.name,\n",
              "          data: base64,\n",
              "        },\n",
              "      };\n",
              "\n",
              "      let percentDone = fileData.byteLength === 0 ?\n",
              "          100 :\n",
              "          Math.round((position / fileData.byteLength) * 100);\n",
              "      percent.textContent = `${percentDone}% done`;\n",
              "\n",
              "    } while (position < fileData.byteLength);\n",
              "  }\n",
              "\n",
              "  // All done.\n",
              "  yield {\n",
              "    response: {\n",
              "      action: 'complete',\n",
              "    }\n",
              "  };\n",
              "}\n",
              "\n",
              "scope.google = scope.google || {};\n",
              "scope.google.colab = scope.google.colab || {};\n",
              "scope.google.colab._files = {\n",
              "  _uploadFiles,\n",
              "  _uploadFilesContinue,\n",
              "};\n",
              "})(self);\n",
              "</script> "
            ]
          },
          "metadata": {}
        },
        {
          "output_type": "stream",
          "name": "stdout",
          "text": [
            "Saving retail_sales_dataset.csv to retail_sales_dataset (1).csv\n",
            "+--------------+----------+-----------+------+---+----------------+--------+--------------+------------+\n",
            "|Transaction ID|      Date|Customer ID|Gender|Age|Product Category|Quantity|Price per Unit|Total Amount|\n",
            "+--------------+----------+-----------+------+---+----------------+--------+--------------+------------+\n",
            "|             1|2023-11-24|    CUST001|  Male| 34|          Beauty|       3|            50|         150|\n",
            "|             2|2023-02-27|    CUST002|Female| 26|        Clothing|       2|           500|        1000|\n",
            "|             3|2023-01-13|    CUST003|  Male| 50|     Electronics|       1|            30|          30|\n",
            "|             4|2023-05-21|    CUST004|  Male| 37|        Clothing|       1|           500|         500|\n",
            "|             5|2023-05-06|    CUST005|  Male| 30|          Beauty|       2|            50|         100|\n",
            "+--------------+----------+-----------+------+---+----------------+--------+--------------+------------+\n",
            "only showing top 5 rows\n",
            "\n"
          ]
        }
      ]
    },
    {
      "cell_type": "markdown",
      "source": [
        "**Step 3: Data Quality Checks**"
      ],
      "metadata": {
        "id": "99mm6YrCVKGu"
      }
    },
    {
      "cell_type": "code",
      "source": [
        "# Check for nulls in each column\n",
        "df.select([count(when(col(c).isNull(), c)).alias(c) for c in df.columns]).show()\n",
        "\n",
        "# Filter out invalid rows (e.g., Quantity or Price <= 0)\n",
        "df = df.filter((col(\"Quantity\") > 0) & (col(\"Price per Unit\") > 0))"
      ],
      "metadata": {
        "colab": {
          "base_uri": "https://localhost:8080/"
        },
        "id": "XCeIZ8lmVWEQ",
        "outputId": "4e0e1687-c636-4fc6-d6e0-9a21e255fa16"
      },
      "execution_count": 4,
      "outputs": [
        {
          "output_type": "stream",
          "name": "stdout",
          "text": [
            "+--------------+----+-----------+------+---+----------------+--------+--------------+------------+\n",
            "|Transaction ID|Date|Customer ID|Gender|Age|Product Category|Quantity|Price per Unit|Total Amount|\n",
            "+--------------+----+-----------+------+---+----------------+--------+--------------+------------+\n",
            "|             0|   0|          0|     0|  0|               0|       0|             0|           0|\n",
            "+--------------+----+-----------+------+---+----------------+--------+--------------+------------+\n",
            "\n"
          ]
        }
      ]
    },
    {
      "cell_type": "markdown",
      "source": [
        "**Step 4: Enrich Data (Date & Revenue)**"
      ],
      "metadata": {
        "id": "G90YHhBHVZsP"
      }
    },
    {
      "cell_type": "code",
      "source": [
        "# Convert date string to proper DateType\n",
        "df = df.withColumn(\"ParsedDate\", to_date(col(\"Date\"), \"yyyy-MM-dd\"))\n",
        "\n",
        "# Extract month and year\n",
        "df = df.withColumn(\"Month\", month(\"ParsedDate\")).withColumn(\"Year\", year(\"ParsedDate\"))\n",
        "\n",
        "# Add Revenue Per Unit\n",
        "df = df.withColumn(\"RevenuePerUnit\", col(\"Total Amount\") / col(\"Quantity\"))\n",
        "\n",
        "df.select(\"ParsedDate\", \"Month\", \"Year\", \"RevenuePerUnit\").show(5)"
      ],
      "metadata": {
        "colab": {
          "base_uri": "https://localhost:8080/"
        },
        "id": "GpkerjJoVY_l",
        "outputId": "593bf50a-2e8f-4865-fa9d-c9a95db70874"
      },
      "execution_count": 5,
      "outputs": [
        {
          "output_type": "stream",
          "name": "stdout",
          "text": [
            "+----------+-----+----+--------------+\n",
            "|ParsedDate|Month|Year|RevenuePerUnit|\n",
            "+----------+-----+----+--------------+\n",
            "|2023-11-24|   11|2023|          50.0|\n",
            "|2023-02-27|    2|2023|         500.0|\n",
            "|2023-01-13|    1|2023|          30.0|\n",
            "|2023-05-21|    5|2023|         500.0|\n",
            "|2023-05-06|    5|2023|          50.0|\n",
            "+----------+-----+----+--------------+\n",
            "only showing top 5 rows\n",
            "\n"
          ]
        }
      ]
    },
    {
      "cell_type": "markdown",
      "source": [
        "**Monthly Aggregation by Product Category**"
      ],
      "metadata": {
        "id": "OZ3yObWYVvmU"
      }
    },
    {
      "cell_type": "code",
      "source": [
        "monthly_sales = df.groupBy(\"Year\", \"Month\", \"Product Category\").agg(\n",
        "    _sum(\"Total Amount\").alias(\"Total Sales\"),\n",
        "    avg(\"RevenuePerUnit\").alias(\"Avg Price\")\n",
        ").orderBy(\"Year\", \"Month\", \"Product Category\")\n",
        "\n",
        "monthly_sales.show(5)"
      ],
      "metadata": {
        "colab": {
          "base_uri": "https://localhost:8080/"
        },
        "id": "HCjJ3OBdVzZr",
        "outputId": "c39ec827-8b07-48c8-cfe9-e766e177df8a"
      },
      "execution_count": 6,
      "outputs": [
        {
          "output_type": "stream",
          "name": "stdout",
          "text": [
            "+----+-----+----------------+-----------+------------------+\n",
            "|Year|Month|Product Category|Total Sales|         Avg Price|\n",
            "+----+-----+----------------+-----------+------------------+\n",
            "|2023|    1|          Beauty|      12430|             196.0|\n",
            "|2023|    1|        Clothing|      13125|194.42307692307693|\n",
            "|2023|    1|     Electronics|       9895|             166.4|\n",
            "|2023|    2|          Beauty|      14035|180.57692307692307|\n",
            "|2023|    2|        Clothing|      14560| 180.9090909090909|\n",
            "+----+-----+----------------+-----------+------------------+\n",
            "only showing top 5 rows\n",
            "\n"
          ]
        }
      ]
    },
    {
      "cell_type": "markdown",
      "source": [
        "**Customer Segmentation by Age Group & Gender**"
      ],
      "metadata": {
        "id": "lGbV0h6BV35P"
      }
    },
    {
      "cell_type": "code",
      "source": [
        "# Create Age Groups\n",
        "df = df.withColumn(\"AgeGroup\",\n",
        "    when(col(\"Age\") < 25, \"18–24\")\n",
        "    .when((col(\"Age\") >= 25) & (col(\"Age\") <= 34), \"25–34\")\n",
        "    .when((col(\"Age\") >= 35) & (col(\"Age\") <= 44), \"35–44\")\n",
        "    .when((col(\"Age\") >= 45) & (col(\"Age\") <= 54), \"45–54\")\n",
        "    .otherwise(\"55+\")\n",
        ")\n",
        "\n",
        "age_gender_sales = df.groupBy(\"AgeGroup\", \"Gender\").agg(\n",
        "    _sum(\"Total Amount\").alias(\"Total Spent\"),\n",
        "    count(\"Transaction ID\").alias(\"Total Purchases\")\n",
        ").orderBy(\"AgeGroup\")\n",
        "\n",
        "age_gender_sales.show()"
      ],
      "metadata": {
        "colab": {
          "base_uri": "https://localhost:8080/"
        },
        "id": "9ftp6NNWV9wG",
        "outputId": "b3f7295d-36dd-4565-adb6-d184f83e0ca6"
      },
      "execution_count": 7,
      "outputs": [
        {
          "output_type": "stream",
          "name": "stdout",
          "text": [
            "+--------+------+-----------+---------------+\n",
            "|AgeGroup|Gender|Total Spent|Total Purchases|\n",
            "+--------+------+-----------+---------------+\n",
            "|   18–24|  Male|      38730|             77|\n",
            "|   18–24|Female|      35920|             72|\n",
            "|   25–34|Female|      51850|            102|\n",
            "|   25–34|  Male|      45240|            101|\n",
            "|   35–44|  Male|      43870|             95|\n",
            "|   35–44|Female|      52965|            112|\n",
            "|   45–54|Female|      46825|            115|\n",
            "|   45–54|  Male|      50410|            110|\n",
            "|     55+|Female|      45280|            109|\n",
            "|     55+|  Male|      44910|            107|\n",
            "+--------+------+-----------+---------------+\n",
            "\n"
          ]
        }
      ]
    },
    {
      "cell_type": "markdown",
      "source": [
        "**Top Product Categories per Month**"
      ],
      "metadata": {
        "id": "fTWyJPrEWBxb"
      }
    },
    {
      "cell_type": "code",
      "source": [
        "windowSpec = Window.partitionBy(\"Year\", \"Month\").orderBy(col(\"Total Amount\").desc())\n",
        "\n",
        "df_ranked = df.groupBy(\"Year\", \"Month\", \"Product Category\") \\\n",
        "    .agg(_sum(\"Total Amount\").alias(\"Total Amount\")) \\\n",
        "    .withColumn(\"rank\", row_number().over(windowSpec)) \\\n",
        "    .filter(col(\"rank\") <= 3)\n",
        "\n",
        "df_ranked.orderBy(\"Year\", \"Month\", \"rank\").show()"
      ],
      "metadata": {
        "colab": {
          "base_uri": "https://localhost:8080/"
        },
        "id": "ZP4EYnYrWIy2",
        "outputId": "295e2f3d-7eec-4fd2-f535-ac5988ac3618"
      },
      "execution_count": 8,
      "outputs": [
        {
          "output_type": "stream",
          "name": "stdout",
          "text": [
            "+----+-----+----------------+------------+----+\n",
            "|Year|Month|Product Category|Total Amount|rank|\n",
            "+----+-----+----------------+------------+----+\n",
            "|2023|    1|        Clothing|       13125|   1|\n",
            "|2023|    1|          Beauty|       12430|   2|\n",
            "|2023|    1|     Electronics|        9895|   3|\n",
            "|2023|    2|     Electronics|       15465|   1|\n",
            "|2023|    2|        Clothing|       14560|   2|\n",
            "|2023|    2|          Beauty|       14035|   3|\n",
            "|2023|    3|        Clothing|       15065|   1|\n",
            "|2023|    3|          Beauty|       10545|   2|\n",
            "|2023|    3|     Electronics|        3380|   3|\n",
            "|2023|    4|        Clothing|       13940|   1|\n",
            "|2023|    4|          Beauty|       11905|   2|\n",
            "|2023|    4|     Electronics|        8025|   3|\n",
            "|2023|    5|     Electronics|       23245|   1|\n",
            "|2023|    5|        Clothing|       17455|   2|\n",
            "|2023|    5|          Beauty|       12450|   3|\n",
            "|2023|    6|     Electronics|       15550|   1|\n",
            "|2023|    6|          Beauty|       10995|   2|\n",
            "|2023|    6|        Clothing|       10170|   3|\n",
            "|2023|    7|          Beauty|       16090|   1|\n",
            "|2023|    7|     Electronics|       11125|   2|\n",
            "+----+-----+----------------+------------+----+\n",
            "only showing top 20 rows\n",
            "\n"
          ]
        }
      ]
    },
    {
      "cell_type": "markdown",
      "source": [
        "**Save Multiple Outputs and Download**"
      ],
      "metadata": {
        "id": "u4dkewcfWWMX"
      }
    },
    {
      "cell_type": "code",
      "source": [
        "# Save outputs to CSV\n",
        "monthly_sales.coalesce(1).write.csv(\"monthly_sales\", header=True, mode=\"overwrite\")\n",
        "age_gender_sales.coalesce(1).write.csv(\"age_gender_sales\", header=True, mode=\"overwrite\")\n",
        "df_ranked.coalesce(1).write.csv(\"top_products\", header=True, mode=\"overwrite\")\n",
        "\n",
        "# Zip folders\n",
        "shutil.make_archive(\"monthly_sales\", 'zip', \"monthly_sales\")\n",
        "shutil.make_archive(\"age_gender_sales\", 'zip', \"age_gender_sales\")\n",
        "shutil.make_archive(\"top_products\", 'zip', \"top_products\")\n",
        "\n",
        "# Download files\n",
        "files.download(\"monthly_sales.zip\")\n",
        "files.download(\"age_gender_sales.zip\")\n",
        "files.download(\"top_products.zip\")"
      ],
      "metadata": {
        "colab": {
          "base_uri": "https://localhost:8080/",
          "height": 17
        },
        "id": "F9RoAW83Wb0Z",
        "outputId": "0eb880ea-6488-497d-fef6-e76079469910"
      },
      "execution_count": 9,
      "outputs": [
        {
          "output_type": "display_data",
          "data": {
            "text/plain": [
              "<IPython.core.display.Javascript object>"
            ],
            "application/javascript": [
              "\n",
              "    async function download(id, filename, size) {\n",
              "      if (!google.colab.kernel.accessAllowed) {\n",
              "        return;\n",
              "      }\n",
              "      const div = document.createElement('div');\n",
              "      const label = document.createElement('label');\n",
              "      label.textContent = `Downloading \"${filename}\": `;\n",
              "      div.appendChild(label);\n",
              "      const progress = document.createElement('progress');\n",
              "      progress.max = size;\n",
              "      div.appendChild(progress);\n",
              "      document.body.appendChild(div);\n",
              "\n",
              "      const buffers = [];\n",
              "      let downloaded = 0;\n",
              "\n",
              "      const channel = await google.colab.kernel.comms.open(id);\n",
              "      // Send a message to notify the kernel that we're ready.\n",
              "      channel.send({})\n",
              "\n",
              "      for await (const message of channel.messages) {\n",
              "        // Send a message to notify the kernel that we're ready.\n",
              "        channel.send({})\n",
              "        if (message.buffers) {\n",
              "          for (const buffer of message.buffers) {\n",
              "            buffers.push(buffer);\n",
              "            downloaded += buffer.byteLength;\n",
              "            progress.value = downloaded;\n",
              "          }\n",
              "        }\n",
              "      }\n",
              "      const blob = new Blob(buffers, {type: 'application/binary'});\n",
              "      const a = document.createElement('a');\n",
              "      a.href = window.URL.createObjectURL(blob);\n",
              "      a.download = filename;\n",
              "      div.appendChild(a);\n",
              "      a.click();\n",
              "      div.remove();\n",
              "    }\n",
              "  "
            ]
          },
          "metadata": {}
        },
        {
          "output_type": "display_data",
          "data": {
            "text/plain": [
              "<IPython.core.display.Javascript object>"
            ],
            "application/javascript": [
              "download(\"download_eb79daff-c3a6-48f8-9d12-fd6cdf0264a1\", \"monthly_sales.zip\", 1154)"
            ]
          },
          "metadata": {}
        },
        {
          "output_type": "display_data",
          "data": {
            "text/plain": [
              "<IPython.core.display.Javascript object>"
            ],
            "application/javascript": [
              "\n",
              "    async function download(id, filename, size) {\n",
              "      if (!google.colab.kernel.accessAllowed) {\n",
              "        return;\n",
              "      }\n",
              "      const div = document.createElement('div');\n",
              "      const label = document.createElement('label');\n",
              "      label.textContent = `Downloading \"${filename}\": `;\n",
              "      div.appendChild(label);\n",
              "      const progress = document.createElement('progress');\n",
              "      progress.max = size;\n",
              "      div.appendChild(progress);\n",
              "      document.body.appendChild(div);\n",
              "\n",
              "      const buffers = [];\n",
              "      let downloaded = 0;\n",
              "\n",
              "      const channel = await google.colab.kernel.comms.open(id);\n",
              "      // Send a message to notify the kernel that we're ready.\n",
              "      channel.send({})\n",
              "\n",
              "      for await (const message of channel.messages) {\n",
              "        // Send a message to notify the kernel that we're ready.\n",
              "        channel.send({})\n",
              "        if (message.buffers) {\n",
              "          for (const buffer of message.buffers) {\n",
              "            buffers.push(buffer);\n",
              "            downloaded += buffer.byteLength;\n",
              "            progress.value = downloaded;\n",
              "          }\n",
              "        }\n",
              "      }\n",
              "      const blob = new Blob(buffers, {type: 'application/binary'});\n",
              "      const a = document.createElement('a');\n",
              "      a.href = window.URL.createObjectURL(blob);\n",
              "      a.download = filename;\n",
              "      div.appendChild(a);\n",
              "      a.click();\n",
              "      div.remove();\n",
              "    }\n",
              "  "
            ]
          },
          "metadata": {}
        },
        {
          "output_type": "display_data",
          "data": {
            "text/plain": [
              "<IPython.core.display.Javascript object>"
            ],
            "application/javascript": [
              "download(\"download_dd1dde72-c032-4935-b494-a73b8f329459\", \"age_gender_sales.zip\", 787)"
            ]
          },
          "metadata": {}
        },
        {
          "output_type": "display_data",
          "data": {
            "text/plain": [
              "<IPython.core.display.Javascript object>"
            ],
            "application/javascript": [
              "\n",
              "    async function download(id, filename, size) {\n",
              "      if (!google.colab.kernel.accessAllowed) {\n",
              "        return;\n",
              "      }\n",
              "      const div = document.createElement('div');\n",
              "      const label = document.createElement('label');\n",
              "      label.textContent = `Downloading \"${filename}\": `;\n",
              "      div.appendChild(label);\n",
              "      const progress = document.createElement('progress');\n",
              "      progress.max = size;\n",
              "      div.appendChild(progress);\n",
              "      document.body.appendChild(div);\n",
              "\n",
              "      const buffers = [];\n",
              "      let downloaded = 0;\n",
              "\n",
              "      const channel = await google.colab.kernel.comms.open(id);\n",
              "      // Send a message to notify the kernel that we're ready.\n",
              "      channel.send({})\n",
              "\n",
              "      for await (const message of channel.messages) {\n",
              "        // Send a message to notify the kernel that we're ready.\n",
              "        channel.send({})\n",
              "        if (message.buffers) {\n",
              "          for (const buffer of message.buffers) {\n",
              "            buffers.push(buffer);\n",
              "            downloaded += buffer.byteLength;\n",
              "            progress.value = downloaded;\n",
              "          }\n",
              "        }\n",
              "      }\n",
              "      const blob = new Blob(buffers, {type: 'application/binary'});\n",
              "      const a = document.createElement('a');\n",
              "      a.href = window.URL.createObjectURL(blob);\n",
              "      a.download = filename;\n",
              "      div.appendChild(a);\n",
              "      a.click();\n",
              "      div.remove();\n",
              "    }\n",
              "  "
            ]
          },
          "metadata": {}
        },
        {
          "output_type": "display_data",
          "data": {
            "text/plain": [
              "<IPython.core.display.Javascript object>"
            ],
            "application/javascript": [
              "download(\"download_dfbcc624-bc4d-4572-b558-00901056cc08\", \"top_products.zip\", 948)"
            ]
          },
          "metadata": {}
        }
      ]
    }
  ]
}